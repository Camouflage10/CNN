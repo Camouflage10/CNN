{
  "nbformat": 4,
  "nbformat_minor": 0,
  "metadata": {
    "colab": {
      "name": "CNN.ipynb",
      "provenance": [],
      "authorship_tag": "ABX9TyOMtPqbGVuKe0c+KCf+f1mh",
      "include_colab_link": true
    },
    "kernelspec": {
      "name": "python3",
      "display_name": "Python 3"
    },
    "language_info": {
      "name": "python"
    }
  },
  "cells": [
    {
      "cell_type": "markdown",
      "metadata": {
        "id": "view-in-github",
        "colab_type": "text"
      },
      "source": [
        "<a href=\"https://colab.research.google.com/github/Camouflage10/CNN/blob/experiment/CNN.ipynb\" target=\"_parent\"><img src=\"https://colab.research.google.com/assets/colab-badge.svg\" alt=\"Open In Colab\"/></a>"
      ]
    },
    {
      "cell_type": "code",
      "execution_count": 1,
      "metadata": {
        "id": "LBWuG7aIffsp"
      },
      "outputs": [],
      "source": [
        "import numpy as np\n",
        "from tensorflow import keras\n",
        "from keras.models import Sequential\n",
        "from keras.layers import Dense, LSTM, Dropout, Conv2D, MaxPooling2D, Flatten\n",
        "import matplotlib.pyplot as plt\n",
        "from sklearn.metrics import confusion_matrix\n",
        "import seaborn as sns"
      ]
    },
    {
      "cell_type": "code",
      "source": [
        "# Model / data parameters\n",
        "num_classes = 10\n",
        "input_shape = (28, 28, 1)\n",
        "\n",
        "# the data, split between train and test sets\n",
        "(x_train, y_train), (x_test, y_test) = keras.datasets.mnist.load_data()\n",
        "\n",
        "# Scale images to the [0, 1] range\n",
        "x_train = x_train.astype(\"float32\") / 255\n",
        "x_test = x_test.astype(\"float32\") / 255\n",
        "# Make sure images have shape (28, 28, 1)\n",
        "x_train = np.expand_dims(x_train, -1)\n",
        "x_test = np.expand_dims(x_test, -1)\n",
        "print(\"x_train shape:\", x_train.shape)\n",
        "print(x_train.shape[0], \"train samples\")\n",
        "print(x_test.shape[0], \"test samples\")\n",
        "\n",
        "\n",
        "# convert class vectors to binary class matrices\n",
        "y_train = keras.utils.to_categorical(y_train, num_classes)\n",
        "y_test = keras.utils.to_categorical(y_test, num_classes)"
      ],
      "metadata": {
        "colab": {
          "base_uri": "https://localhost:8080/"
        },
        "id": "PlwU1vuOf2Cz",
        "outputId": "611576fd-41f2-4aac-ac45-59145f270d9f"
      },
      "execution_count": 2,
      "outputs": [
        {
          "output_type": "stream",
          "name": "stdout",
          "text": [
            "Downloading data from https://storage.googleapis.com/tensorflow/tf-keras-datasets/mnist.npz\n",
            "11493376/11490434 [==============================] - 0s 0us/step\n",
            "11501568/11490434 [==============================] - 0s 0us/step\n",
            "x_train shape: (60000, 28, 28, 1)\n",
            "60000 train samples\n",
            "10000 test samples\n"
          ]
        }
      ]
    },
    {
      "cell_type": "code",
      "source": [
        "def CNN_model(inputShape=input_shape):\n",
        "  model=Sequential()\n",
        "  #input\n",
        "  model.add(Conv2D(32, kernel_size=(3, 3), activation=\"relu\", input_shape=inputShape))\n",
        "  #hidden layer\n",
        "  model.add(MaxPooling2D(pool_size=(2, 2)))\n",
        "  model.add(Conv2D(64, kernel_size=(3, 3), activation=\"relu\"))\n",
        "  model.add(MaxPooling2D(pool_size=(2, 2)))\n",
        "  model.add(Flatten())\n",
        "  model.add(Dropout(.5))\n",
        "  #output\n",
        "  model.add(Dense(num_classes, activation=\"softmax\"))\n",
        "  #compile model\n",
        "  model.compile(loss=\"categorical_crossentropy\", optimizer=\"adam\", metrics=[\"accuracy\"])\n",
        "  return model"
      ],
      "metadata": {
        "id": "oBSxMjcwf5e8"
      },
      "execution_count": 3,
      "outputs": []
    },
    {
      "cell_type": "code",
      "source": [
        "model=CNN_model()\n",
        "model.summary()"
      ],
      "metadata": {
        "colab": {
          "base_uri": "https://localhost:8080/"
        },
        "id": "iDG7ZClKguic",
        "outputId": "5dcc56e6-c2bb-4a1a-af8e-7b9fb494db01"
      },
      "execution_count": 4,
      "outputs": [
        {
          "output_type": "stream",
          "name": "stdout",
          "text": [
            "Model: \"sequential\"\n",
            "_________________________________________________________________\n",
            " Layer (type)                Output Shape              Param #   \n",
            "=================================================================\n",
            " conv2d (Conv2D)             (None, 26, 26, 32)        320       \n",
            "                                                                 \n",
            " max_pooling2d (MaxPooling2D  (None, 13, 13, 32)       0         \n",
            " )                                                               \n",
            "                                                                 \n",
            " conv2d_1 (Conv2D)           (None, 11, 11, 64)        18496     \n",
            "                                                                 \n",
            " max_pooling2d_1 (MaxPooling  (None, 5, 5, 64)         0         \n",
            " 2D)                                                             \n",
            "                                                                 \n",
            " flatten (Flatten)           (None, 1600)              0         \n",
            "                                                                 \n",
            " dropout (Dropout)           (None, 1600)              0         \n",
            "                                                                 \n",
            " dense (Dense)               (None, 10)                16010     \n",
            "                                                                 \n",
            "=================================================================\n",
            "Total params: 34,826\n",
            "Trainable params: 34,826\n",
            "Non-trainable params: 0\n",
            "_________________________________________________________________\n"
          ]
        }
      ]
    },
    {
      "cell_type": "code",
      "source": [
        "batch_size = 128\n",
        "epochs = 10\n",
        "\n",
        "hist=model.fit(x_train, y_train, batch_size=batch_size, epochs=epochs, validation_split=0.1)"
      ],
      "metadata": {
        "colab": {
          "base_uri": "https://localhost:8080/"
        },
        "id": "qaPnjAo6h62I",
        "outputId": "267bbedd-37e6-48a6-839c-4a329ab7da46"
      },
      "execution_count": 5,
      "outputs": [
        {
          "output_type": "stream",
          "name": "stdout",
          "text": [
            "Epoch 1/10\n",
            "422/422 [==============================] - 47s 110ms/step - loss: 0.3751 - accuracy: 0.8857 - val_loss: 0.0891 - val_accuracy: 0.9765\n",
            "Epoch 2/10\n",
            "422/422 [==============================] - 54s 127ms/step - loss: 0.1159 - accuracy: 0.9647 - val_loss: 0.0575 - val_accuracy: 0.9850\n",
            "Epoch 3/10\n",
            "422/422 [==============================] - 42s 100ms/step - loss: 0.0872 - accuracy: 0.9733 - val_loss: 0.0492 - val_accuracy: 0.9880\n",
            "Epoch 4/10\n",
            "422/422 [==============================] - 43s 101ms/step - loss: 0.0715 - accuracy: 0.9778 - val_loss: 0.0413 - val_accuracy: 0.9897\n",
            "Epoch 5/10\n",
            "422/422 [==============================] - 43s 103ms/step - loss: 0.0621 - accuracy: 0.9808 - val_loss: 0.0403 - val_accuracy: 0.9887\n",
            "Epoch 6/10\n",
            "422/422 [==============================] - 42s 100ms/step - loss: 0.0558 - accuracy: 0.9820 - val_loss: 0.0365 - val_accuracy: 0.9913\n",
            "Epoch 7/10\n",
            "422/422 [==============================] - 42s 100ms/step - loss: 0.0535 - accuracy: 0.9832 - val_loss: 0.0355 - val_accuracy: 0.9900\n",
            "Epoch 8/10\n",
            "422/422 [==============================] - 42s 99ms/step - loss: 0.0479 - accuracy: 0.9845 - val_loss: 0.0344 - val_accuracy: 0.9910\n",
            "Epoch 9/10\n",
            "422/422 [==============================] - 42s 100ms/step - loss: 0.0442 - accuracy: 0.9863 - val_loss: 0.0355 - val_accuracy: 0.9917\n",
            "Epoch 10/10\n",
            "422/422 [==============================] - 42s 99ms/step - loss: 0.0441 - accuracy: 0.9861 - val_loss: 0.0318 - val_accuracy: 0.9922\n"
          ]
        }
      ]
    },
    {
      "cell_type": "code",
      "source": [
        "score = model.evaluate(x_test, y_test, verbose=0)\n",
        "with open('metrics.txt', 'w') as outfile:\n",
        "  outfile.write(\"Test loss: \" + str(round(score[0],5)))\n",
        "  outfile.write(\"\\nTest accuracy: \" + str(round(score[1],5))+\"\\n\")"
      ],
      "metadata": {
        "id": "sYgJS-CxiGMt"
      },
      "execution_count": 11,
      "outputs": []
    },
    {
      "cell_type": "code",
      "source": [
        "y_pred=model.predict(x_test)\n",
        "y_pred = (y_pred > 0.5) \n",
        "cm = confusion_matrix(y_test.argmax(axis=1), y_pred.argmax(axis=1))\n",
        "ax = sns.heatmap(cm, annot=True, cmap='Blues')\n",
        "\n",
        "ax.set_title('Confusion Matrix\\n');\n",
        "ax.set_xlabel('\\nPredicted Values')\n",
        "ax.set_ylabel('Actual Values ');\n",
        "\n",
        "## Ticket labels - List must be in alphabetical order\n",
        "#ax.xaxis.set_ticklabels(['False','True'])\n",
        "#ax.yaxis.set_ticklabels(['False','True'])\n",
        "\n",
        "## Display the visualization of the Confusion Matrix.\n",
        "plt.tight_layout()\n",
        "fig1 = plt.gcf()\n",
        "fig1.savefig('cm.png', dpi=100)\n",
        "\n",
        "plt.show()"
      ],
      "metadata": {
        "colab": {
          "base_uri": "https://localhost:8080/",
          "height": 297
        },
        "id": "N5LDTOvbjHOZ",
        "outputId": "9a0510d8-1150-425b-f21b-2456c80f96fd"
      },
      "execution_count": 9,
      "outputs": [
        {
          "output_type": "display_data",
          "data": {
            "text/plain": [
              "<Figure size 432x288 with 2 Axes>"
            ],
            "image/png": "[encoded data removed]"
          },
          "metadata": {
            "needs_background": "light"
          }
        }
      ]
    },
    {
      "cell_type": "code",
      "source": [
        ""
      ],
      "metadata": {
        "id": "Ai74w6KCprNk"
      },
      "execution_count": null,
      "outputs": []
    }
  ]
}