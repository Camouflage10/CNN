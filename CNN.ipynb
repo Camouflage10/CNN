{
  "nbformat": 4,
  "nbformat_minor": 0,
  "metadata": {
    "colab": {
      "name": "CNN.ipynb",
      "provenance": [],
      "authorship_tag": "ABX9TyP0VLfgW3Gr+G7IfXaXu/lT",
      "include_colab_link": true
    },
    "kernelspec": {
      "name": "python3",
      "display_name": "Python 3"
    },
    "language_info": {
      "name": "python"
    }
  },
  "cells": [
    {
      "cell_type": "markdown",
      "metadata": {
        "id": "view-in-github",
        "colab_type": "text"
      },
      "source": [
        "<a href=\"https://colab.research.google.com/github/Camouflage10/CNN/blob/main/CNN.ipynb\" target=\"_parent\"><img src=\"https://colab.research.google.com/assets/colab-badge.svg\" alt=\"Open In Colab\"/></a>"
      ]
    },
    {
      "cell_type": "code",
      "execution_count": 5,
      "metadata": {
        "id": "LBWuG7aIffsp"
      },
      "outputs": [],
      "source": [
        "import numpy as np\n",
        "from tensorflow import keras\n",
        "from keras.models import Sequential\n",
        "from keras.layers import Dense, LSTM, Dropout, Conv2D, MaxPooling2D, Flatten\n",
        "import matplotlib.pyplot as plt"
      ]
    },
    {
      "cell_type": "code",
      "source": [
        "# Model / data parameters\n",
        "num_classes = 10\n",
        "input_shape = (28, 28, 1)\n",
        "\n",
        "# the data, split between train and test sets\n",
        "(x_train, y_train), (x_test, y_test) = keras.datasets.mnist.load_data()\n",
        "\n",
        "# Scale images to the [0, 1] range\n",
        "x_train = x_train.astype(\"float32\") / 255\n",
        "x_test = x_test.astype(\"float32\") / 255\n",
        "# Make sure images have shape (28, 28, 1)\n",
        "x_train = np.expand_dims(x_train, -1)\n",
        "x_test = np.expand_dims(x_test, -1)\n",
        "print(\"x_train shape:\", x_train.shape)\n",
        "print(x_train.shape[0], \"train samples\")\n",
        "print(x_test.shape[0], \"test samples\")\n",
        "\n",
        "\n",
        "# convert class vectors to binary class matrices\n",
        "y_train = keras.utils.to_categorical(y_train, num_classes)\n",
        "y_test = keras.utils.to_categorical(y_test, num_classes)"
      ],
      "metadata": {
        "colab": {
          "base_uri": "https://localhost:8080/"
        },
        "id": "PlwU1vuOf2Cz",
        "outputId": "0a8e3d1b-cee7-4922-a0d6-ed4cd642d2b0"
      },
      "execution_count": 7,
      "outputs": [
        {
          "output_type": "stream",
          "name": "stdout",
          "text": [
            "x_train shape: (60000, 28, 28, 1)\n",
            "60000 train samples\n",
            "10000 test samples\n"
          ]
        }
      ]
    },
    {
      "cell_type": "code",
      "source": [
        "def CNN_model(inputShape=input_shape):\n",
        "  model=Sequential()\n",
        "  #input\n",
        "  model.add(Conv2D(32, kernel_size=(3, 3), activation=\"relu\", input_shape=inputShape))\n",
        "  #hidden layer\n",
        "  model.add(MaxPooling2D(pool_size=(2, 2)))\n",
        "  model.add(Conv2D(64, kernel_size=(3, 3), activation=\"relu\"))\n",
        "  model.add(MaxPooling2D(pool_size=(2, 2)))\n",
        "  model.add(Flatten())\n",
        "  model.add(Dropout(.5))\n",
        "  #output\n",
        "  model.add(Dense(num_classes, activation=\"softmax\"))\n",
        "  #compile model\n",
        "  model.compile(loss=\"categorical_crossentropy\", optimizer=\"adam\", metrics=[\"accuracy\"])\n",
        "  return model"
      ],
      "metadata": {
        "id": "oBSxMjcwf5e8"
      },
      "execution_count": 10,
      "outputs": []
    },
    {
      "cell_type": "code",
      "source": [
        "model=CNN_model()\n",
        "model.summary()"
      ],
      "metadata": {
        "colab": {
          "base_uri": "https://localhost:8080/"
        },
        "id": "iDG7ZClKguic",
        "outputId": "bb939a1b-2b0f-4429-8d32-a107d2eb5ba0"
      },
      "execution_count": 11,
      "outputs": [
        {
          "output_type": "stream",
          "name": "stdout",
          "text": [
            "Model: \"sequential_1\"\n",
            "_________________________________________________________________\n",
            " Layer (type)                Output Shape              Param #   \n",
            "=================================================================\n",
            " conv2d_2 (Conv2D)           (None, 26, 26, 32)        320       \n",
            "                                                                 \n",
            " max_pooling2d_2 (MaxPooling  (None, 13, 13, 32)       0         \n",
            " 2D)                                                             \n",
            "                                                                 \n",
            " conv2d_3 (Conv2D)           (None, 11, 11, 64)        18496     \n",
            "                                                                 \n",
            " max_pooling2d_3 (MaxPooling  (None, 5, 5, 64)         0         \n",
            " 2D)                                                             \n",
            "                                                                 \n",
            " flatten_1 (Flatten)         (None, 1600)              0         \n",
            "                                                                 \n",
            " dropout_1 (Dropout)         (None, 1600)              0         \n",
            "                                                                 \n",
            " dense_1 (Dense)             (None, 10)                16010     \n",
            "                                                                 \n",
            "=================================================================\n",
            "Total params: 34,826\n",
            "Trainable params: 34,826\n",
            "Non-trainable params: 0\n",
            "_________________________________________________________________\n"
          ]
        }
      ]
    },
    {
      "cell_type": "code",
      "source": [
        "batch_size = 128\n",
        "epochs = 10\n",
        "\n",
        "model.fit(x_train, y_train, batch_size=batch_size, epochs=epochs, validation_split=0.1)"
      ],
      "metadata": {
        "colab": {
          "base_uri": "https://localhost:8080/"
        },
        "id": "qaPnjAo6h62I",
        "outputId": "9502496b-efa7-49ad-f10e-89ec8c6a463b"
      },
      "execution_count": 12,
      "outputs": [
        {
          "output_type": "stream",
          "name": "stdout",
          "text": [
            "Epoch 1/15\n",
            "422/422 [==============================] - 45s 103ms/step - loss: 0.3744 - accuracy: 0.8840 - val_loss: 0.0777 - val_accuracy: 0.9802\n",
            "Epoch 2/15\n",
            "422/422 [==============================] - 44s 104ms/step - loss: 0.1101 - accuracy: 0.9654 - val_loss: 0.0612 - val_accuracy: 0.9830\n",
            "Epoch 3/15\n",
            "422/422 [==============================] - 43s 102ms/step - loss: 0.0816 - accuracy: 0.9750 - val_loss: 0.0462 - val_accuracy: 0.9873\n",
            "Epoch 4/15\n",
            "422/422 [==============================] - 43s 102ms/step - loss: 0.0700 - accuracy: 0.9783 - val_loss: 0.0433 - val_accuracy: 0.9878\n",
            "Epoch 5/15\n",
            "422/422 [==============================] - 55s 131ms/step - loss: 0.0625 - accuracy: 0.9806 - val_loss: 0.0402 - val_accuracy: 0.9888\n",
            "Epoch 6/15\n",
            "422/422 [==============================] - 46s 110ms/step - loss: 0.0564 - accuracy: 0.9822 - val_loss: 0.0385 - val_accuracy: 0.9887\n",
            "Epoch 7/15\n",
            "422/422 [==============================] - 44s 104ms/step - loss: 0.0518 - accuracy: 0.9844 - val_loss: 0.0343 - val_accuracy: 0.9900\n",
            "Epoch 8/15\n",
            "422/422 [==============================] - 44s 105ms/step - loss: 0.0466 - accuracy: 0.9853 - val_loss: 0.0343 - val_accuracy: 0.9913\n",
            "Epoch 9/15\n",
            "422/422 [==============================] - 44s 103ms/step - loss: 0.0461 - accuracy: 0.9856 - val_loss: 0.0321 - val_accuracy: 0.9903\n",
            "Epoch 10/15\n",
            "422/422 [==============================] - 43s 102ms/step - loss: 0.0426 - accuracy: 0.9870 - val_loss: 0.0335 - val_accuracy: 0.9903\n",
            "Epoch 11/15\n",
            "422/422 [==============================] - 43s 102ms/step - loss: 0.0390 - accuracy: 0.9874 - val_loss: 0.0322 - val_accuracy: 0.9903\n",
            "Epoch 12/15\n",
            "422/422 [==============================] - 43s 102ms/step - loss: 0.0366 - accuracy: 0.9883 - val_loss: 0.0300 - val_accuracy: 0.9908\n",
            "Epoch 13/15\n",
            "422/422 [==============================] - 43s 102ms/step - loss: 0.0364 - accuracy: 0.9884 - val_loss: 0.0307 - val_accuracy: 0.9913\n",
            "Epoch 14/15\n",
            "422/422 [==============================] - 43s 102ms/step - loss: 0.0322 - accuracy: 0.9897 - val_loss: 0.0304 - val_accuracy: 0.9917\n",
            "Epoch 15/15\n",
            "422/422 [==============================] - 43s 102ms/step - loss: 0.0325 - accuracy: 0.9898 - val_loss: 0.0285 - val_accuracy: 0.9918\n"
          ]
        },
        {
          "output_type": "execute_result",
          "data": {
            "text/plain": [
              "<keras.callbacks.History at 0x7f9717333110>"
            ]
          },
          "metadata": {},
          "execution_count": 12
        }
      ]
    },
    {
      "cell_type": "code",
      "source": [
        "score = model.evaluate(x_test, y_test, verbose=0)\n",
        "with open('metrics.txt', 'w') as outfile:\n",
        "  outfile.write(\"Test loss:\" + str(score[0]))\n",
        "  outfile.write(\"\\nTest accuracy:\" + str(score[1]))"
      ],
      "metadata": {
        "id": "sYgJS-CxiGMt"
      },
      "execution_count": 17,
      "outputs": []
    },
    {
      "cell_type": "code",
      "source": [
        ""
      ],
      "metadata": {
        "id": "N5LDTOvbjHOZ"
      },
      "execution_count": null,
      "outputs": []
    }
  ]
}